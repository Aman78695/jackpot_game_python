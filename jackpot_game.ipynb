{
  "nbformat": 4,
  "nbformat_minor": 0,
  "metadata": {
    "colab": {
      "provenance": [],
      "authorship_tag": "ABX9TyMJXoYBydLeNmgQFfFiwvVY",
      "include_colab_link": true
    },
    "kernelspec": {
      "name": "python3",
      "display_name": "Python 3"
    },
    "language_info": {
      "name": "python"
    }
  },
  "cells": [
    {
      "cell_type": "markdown",
      "metadata": {
        "id": "view-in-github",
        "colab_type": "text"
      },
      "source": [
        "<a href=\"https://colab.research.google.com/github/Aman78695/jackpot_game_python/blob/main/jackpot_game.ipynb\" target=\"_parent\"><img src=\"https://colab.research.google.com/assets/colab-badge.svg\" alt=\"Open In Colab\"/></a>"
      ]
    },
    {
      "cell_type": "code",
      "execution_count": 1,
      "metadata": {
        "colab": {
          "base_uri": "https://localhost:8080/"
        },
        "id": "JEu7GIM450yJ",
        "outputId": "7a4b055b-fb92-40c4-f7d4-8dcc863e630c"
      },
      "outputs": [
        {
          "output_type": "stream",
          "name": "stdout",
          "text": [
            "enter your number8\n",
            "guess higher\n",
            "enter your number98\n",
            "guess lower\n",
            "enter your number56\n",
            "guess lower\n",
            "enter your number45\n",
            "guess lower\n",
            "enter your number34\n",
            "guess lower\n",
            "enter your number23\n",
            "guess lower\n",
            "enter your number12\n",
            "guess lower\n",
            "enter your number10\n",
            "correct guess\n"
          ]
        }
      ],
      "source": [
        "import random\n",
        "jackpot=random.randint(1,100)\n",
        "users_input=int(input('enter your number'))\n",
        "while users_input!=jackpot:\n",
        "  if users_input>jackpot:\n",
        "    print('guess lower')\n",
        "  else:\n",
        "    print('guess higher')\n",
        "  users_input=int(input('enter your number'))\n",
        "else:\n",
        "  print('correct guess')"
      ]
    },
    {
      "cell_type": "code",
      "source": [
        "_"
      ],
      "metadata": {
        "id": "hfbrls9Y6R44"
      },
      "execution_count": null,
      "outputs": []
    }
  ]
}